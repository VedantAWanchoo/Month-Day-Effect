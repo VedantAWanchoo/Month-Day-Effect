{
 "cells": [
  {
   "cell_type": "markdown",
   "metadata": {},
   "source": [
    "# Aim: Over long periods of time, do markets perform significantly better/worse on some days of the week?"
   ]
  },
  {
   "cell_type": "code",
   "execution_count": 31,
   "metadata": {},
   "outputs": [],
   "source": [
    "import pandas as pd\n",
    "import math\n",
    "import statsmodels.api as sm\n",
    "import matplotlib.pyplot as plt\n",
    "import numpy as np\n",
    "from datetime import datetime\n",
    "from time import process_time\n",
    "import scipy.stats"
   ]
  },
  {
   "cell_type": "code",
   "execution_count": 32,
   "metadata": {},
   "outputs": [],
   "source": [
    "#I have used the Nifty Total Return Index as a proxy for the Indian markets. You can use any security from any country and run the code, the methodology will remain the same."
   ]
  },
  {
   "cell_type": "code",
   "execution_count": 33,
   "metadata": {},
   "outputs": [],
   "source": [
    "data=pd.read_excel(r'C:\\Users\\Vedant Wanchoo\\Desktop\\Recent Research\\Day and Month Effect\\Day_Effect.xlsx',sheet_name='Sheet3')"
   ]
  },
  {
   "cell_type": "code",
   "execution_count": 34,
   "metadata": {},
   "outputs": [],
   "source": [
    "data['Ret']=data['NIFTY50 TRI'].pct_change()\n",
    "data=data.dropna()"
   ]
  },
  {
   "cell_type": "code",
   "execution_count": 35,
   "metadata": {
    "scrolled": true
   },
   "outputs": [
    {
     "data": {
      "text/html": [
       "<div>\n",
       "<style scoped>\n",
       "    .dataframe tbody tr th:only-of-type {\n",
       "        vertical-align: middle;\n",
       "    }\n",
       "\n",
       "    .dataframe tbody tr th {\n",
       "        vertical-align: top;\n",
       "    }\n",
       "\n",
       "    .dataframe thead th {\n",
       "        text-align: right;\n",
       "    }\n",
       "</style>\n",
       "<table border=\"1\" class=\"dataframe\">\n",
       "  <thead>\n",
       "    <tr style=\"text-align: right;\">\n",
       "      <th></th>\n",
       "      <th>Date</th>\n",
       "      <th>NIFTY50 TRI</th>\n",
       "      <th>Ret</th>\n",
       "    </tr>\n",
       "  </thead>\n",
       "  <tbody>\n",
       "    <tr>\n",
       "      <th>1</th>\n",
       "      <td>2000-01-03</td>\n",
       "      <td>1688.44</td>\n",
       "      <td>0.080311</td>\n",
       "    </tr>\n",
       "    <tr>\n",
       "      <th>2</th>\n",
       "      <td>2000-01-04</td>\n",
       "      <td>1737.75</td>\n",
       "      <td>0.029204</td>\n",
       "    </tr>\n",
       "    <tr>\n",
       "      <th>3</th>\n",
       "      <td>2000-01-05</td>\n",
       "      <td>1692.25</td>\n",
       "      <td>-0.026183</td>\n",
       "    </tr>\n",
       "    <tr>\n",
       "      <th>4</th>\n",
       "      <td>2000-01-06</td>\n",
       "      <td>1715.37</td>\n",
       "      <td>0.013662</td>\n",
       "    </tr>\n",
       "    <tr>\n",
       "      <th>5</th>\n",
       "      <td>2000-01-07</td>\n",
       "      <td>1710.81</td>\n",
       "      <td>-0.002658</td>\n",
       "    </tr>\n",
       "  </tbody>\n",
       "</table>\n",
       "</div>"
      ],
      "text/plain": [
       "        Date  NIFTY50 TRI       Ret\n",
       "1 2000-01-03      1688.44  0.080311\n",
       "2 2000-01-04      1737.75  0.029204\n",
       "3 2000-01-05      1692.25 -0.026183\n",
       "4 2000-01-06      1715.37  0.013662\n",
       "5 2000-01-07      1710.81 -0.002658"
      ]
     },
     "execution_count": 35,
     "metadata": {},
     "output_type": "execute_result"
    }
   ],
   "source": [
    "data.head()"
   ]
  },
  {
   "cell_type": "code",
   "execution_count": 36,
   "metadata": {},
   "outputs": [
    {
     "data": {
      "text/plain": [
       "(5218, 3)"
      ]
     },
     "execution_count": 36,
     "metadata": {},
     "output_type": "execute_result"
    }
   ],
   "source": [
    "data.shape"
   ]
  },
  {
   "cell_type": "code",
   "execution_count": 37,
   "metadata": {},
   "outputs": [
    {
     "name": "stdout",
     "output_type": "stream",
     "text": [
      "3.1861979166666665 minutes\n"
     ]
    }
   ],
   "source": [
    "#This Cell takes 4 minutes to run\n",
    "\n",
    "start_time = process_time()\n",
    "\n",
    "data['Day']=0\n",
    "\n",
    "for j in range(0,len(data)):\n",
    "    data['Day'].iloc[j]=data['Date'].iloc[j].strftime('%A')\n",
    "    \n",
    "print ((process_time()-start_time)/60, \"minutes\")"
   ]
  },
  {
   "cell_type": "code",
   "execution_count": 38,
   "metadata": {},
   "outputs": [
    {
     "data": {
      "text/html": [
       "<div>\n",
       "<style scoped>\n",
       "    .dataframe tbody tr th:only-of-type {\n",
       "        vertical-align: middle;\n",
       "    }\n",
       "\n",
       "    .dataframe tbody tr th {\n",
       "        vertical-align: top;\n",
       "    }\n",
       "\n",
       "    .dataframe thead th {\n",
       "        text-align: right;\n",
       "    }\n",
       "</style>\n",
       "<table border=\"1\" class=\"dataframe\">\n",
       "  <thead>\n",
       "    <tr style=\"text-align: right;\">\n",
       "      <th></th>\n",
       "      <th>Date</th>\n",
       "      <th>NIFTY50 TRI</th>\n",
       "      <th>Ret</th>\n",
       "      <th>Day</th>\n",
       "    </tr>\n",
       "  </thead>\n",
       "  <tbody>\n",
       "    <tr>\n",
       "      <th>1</th>\n",
       "      <td>2000-01-03</td>\n",
       "      <td>1688.44</td>\n",
       "      <td>0.080311</td>\n",
       "      <td>Monday</td>\n",
       "    </tr>\n",
       "    <tr>\n",
       "      <th>2</th>\n",
       "      <td>2000-01-04</td>\n",
       "      <td>1737.75</td>\n",
       "      <td>0.029204</td>\n",
       "      <td>Tuesday</td>\n",
       "    </tr>\n",
       "    <tr>\n",
       "      <th>3</th>\n",
       "      <td>2000-01-05</td>\n",
       "      <td>1692.25</td>\n",
       "      <td>-0.026183</td>\n",
       "      <td>Wednesday</td>\n",
       "    </tr>\n",
       "    <tr>\n",
       "      <th>4</th>\n",
       "      <td>2000-01-06</td>\n",
       "      <td>1715.37</td>\n",
       "      <td>0.013662</td>\n",
       "      <td>Thursday</td>\n",
       "    </tr>\n",
       "    <tr>\n",
       "      <th>5</th>\n",
       "      <td>2000-01-07</td>\n",
       "      <td>1710.81</td>\n",
       "      <td>-0.002658</td>\n",
       "      <td>Friday</td>\n",
       "    </tr>\n",
       "  </tbody>\n",
       "</table>\n",
       "</div>"
      ],
      "text/plain": [
       "        Date  NIFTY50 TRI       Ret        Day\n",
       "1 2000-01-03      1688.44  0.080311     Monday\n",
       "2 2000-01-04      1737.75  0.029204    Tuesday\n",
       "3 2000-01-05      1692.25 -0.026183  Wednesday\n",
       "4 2000-01-06      1715.37  0.013662   Thursday\n",
       "5 2000-01-07      1710.81 -0.002658     Friday"
      ]
     },
     "execution_count": 38,
     "metadata": {},
     "output_type": "execute_result"
    }
   ],
   "source": [
    "data.head()"
   ]
  },
  {
   "cell_type": "code",
   "execution_count": 39,
   "metadata": {},
   "outputs": [
    {
     "data": {
      "text/html": [
       "<div>\n",
       "<style scoped>\n",
       "    .dataframe tbody tr th:only-of-type {\n",
       "        vertical-align: middle;\n",
       "    }\n",
       "\n",
       "    .dataframe tbody tr th {\n",
       "        vertical-align: top;\n",
       "    }\n",
       "\n",
       "    .dataframe thead th {\n",
       "        text-align: right;\n",
       "    }\n",
       "</style>\n",
       "<table border=\"1\" class=\"dataframe\">\n",
       "  <thead>\n",
       "    <tr style=\"text-align: right;\">\n",
       "      <th>Day</th>\n",
       "      <th>Friday</th>\n",
       "      <th>Monday</th>\n",
       "      <th>Thursday</th>\n",
       "      <th>Tuesday</th>\n",
       "      <th>Wednesday</th>\n",
       "    </tr>\n",
       "    <tr>\n",
       "      <th>Date</th>\n",
       "      <th></th>\n",
       "      <th></th>\n",
       "      <th></th>\n",
       "      <th></th>\n",
       "      <th></th>\n",
       "    </tr>\n",
       "  </thead>\n",
       "  <tbody>\n",
       "    <tr>\n",
       "      <th>2000-01-03</th>\n",
       "      <td>NaN</td>\n",
       "      <td>0.080311</td>\n",
       "      <td>NaN</td>\n",
       "      <td>NaN</td>\n",
       "      <td>NaN</td>\n",
       "    </tr>\n",
       "    <tr>\n",
       "      <th>2000-01-04</th>\n",
       "      <td>NaN</td>\n",
       "      <td>NaN</td>\n",
       "      <td>NaN</td>\n",
       "      <td>0.029204</td>\n",
       "      <td>NaN</td>\n",
       "    </tr>\n",
       "    <tr>\n",
       "      <th>2000-01-05</th>\n",
       "      <td>NaN</td>\n",
       "      <td>NaN</td>\n",
       "      <td>NaN</td>\n",
       "      <td>NaN</td>\n",
       "      <td>-0.026183</td>\n",
       "    </tr>\n",
       "    <tr>\n",
       "      <th>2000-01-06</th>\n",
       "      <td>NaN</td>\n",
       "      <td>NaN</td>\n",
       "      <td>0.013662</td>\n",
       "      <td>NaN</td>\n",
       "      <td>NaN</td>\n",
       "    </tr>\n",
       "    <tr>\n",
       "      <th>2000-01-07</th>\n",
       "      <td>-0.002658</td>\n",
       "      <td>NaN</td>\n",
       "      <td>NaN</td>\n",
       "      <td>NaN</td>\n",
       "      <td>NaN</td>\n",
       "    </tr>\n",
       "  </tbody>\n",
       "</table>\n",
       "</div>"
      ],
      "text/plain": [
       "Day           Friday    Monday  Thursday   Tuesday  Wednesday\n",
       "Date                                                         \n",
       "2000-01-03       NaN  0.080311       NaN       NaN        NaN\n",
       "2000-01-04       NaN       NaN       NaN  0.029204        NaN\n",
       "2000-01-05       NaN       NaN       NaN       NaN  -0.026183\n",
       "2000-01-06       NaN       NaN  0.013662       NaN        NaN\n",
       "2000-01-07 -0.002658       NaN       NaN       NaN        NaN"
      ]
     },
     "execution_count": 39,
     "metadata": {},
     "output_type": "execute_result"
    }
   ],
   "source": [
    "Pivot=data.pivot_table(index='Date',columns='Day', values='Ret')\n",
    "Pivot.head()"
   ]
  },
  {
   "cell_type": "code",
   "execution_count": 40,
   "metadata": {},
   "outputs": [
    {
     "data": {
      "text/html": [
       "<div>\n",
       "<style scoped>\n",
       "    .dataframe tbody tr th:only-of-type {\n",
       "        vertical-align: middle;\n",
       "    }\n",
       "\n",
       "    .dataframe tbody tr th {\n",
       "        vertical-align: top;\n",
       "    }\n",
       "\n",
       "    .dataframe thead th {\n",
       "        text-align: right;\n",
       "    }\n",
       "</style>\n",
       "<table border=\"1\" class=\"dataframe\">\n",
       "  <thead>\n",
       "    <tr style=\"text-align: right;\">\n",
       "      <th>Day</th>\n",
       "      <th>Friday</th>\n",
       "      <th>Monday</th>\n",
       "      <th>Thursday</th>\n",
       "      <th>Tuesday</th>\n",
       "      <th>Wednesday</th>\n",
       "    </tr>\n",
       "  </thead>\n",
       "  <tbody>\n",
       "    <tr>\n",
       "      <th>count</th>\n",
       "      <td>1043.000000</td>\n",
       "      <td>1044.000000</td>\n",
       "      <td>1043.000000</td>\n",
       "      <td>1044.000000</td>\n",
       "      <td>1044.000000</td>\n",
       "    </tr>\n",
       "    <tr>\n",
       "      <th>mean</th>\n",
       "      <td>0.000560</td>\n",
       "      <td>0.000410</td>\n",
       "      <td>0.000459</td>\n",
       "      <td>0.000178</td>\n",
       "      <td>0.001176</td>\n",
       "    </tr>\n",
       "    <tr>\n",
       "      <th>std</th>\n",
       "      <td>0.014781</td>\n",
       "      <td>0.015960</td>\n",
       "      <td>0.012692</td>\n",
       "      <td>0.013233</td>\n",
       "      <td>0.013028</td>\n",
       "    </tr>\n",
       "    <tr>\n",
       "      <th>min</th>\n",
       "      <td>-0.122021</td>\n",
       "      <td>-0.122389</td>\n",
       "      <td>-0.067665</td>\n",
       "      <td>-0.069495</td>\n",
       "      <td>-0.061799</td>\n",
       "    </tr>\n",
       "    <tr>\n",
       "      <th>25%</th>\n",
       "      <td>-0.005971</td>\n",
       "      <td>-0.005878</td>\n",
       "      <td>-0.005954</td>\n",
       "      <td>-0.005273</td>\n",
       "      <td>-0.005004</td>\n",
       "    </tr>\n",
       "    <tr>\n",
       "      <th>50%</th>\n",
       "      <td>0.000156</td>\n",
       "      <td>0.000272</td>\n",
       "      <td>0.000232</td>\n",
       "      <td>0.000013</td>\n",
       "      <td>0.000208</td>\n",
       "    </tr>\n",
       "    <tr>\n",
       "      <th>75%</th>\n",
       "      <td>0.008009</td>\n",
       "      <td>0.007377</td>\n",
       "      <td>0.007376</td>\n",
       "      <td>0.006607</td>\n",
       "      <td>0.006875</td>\n",
       "    </tr>\n",
       "    <tr>\n",
       "      <th>max</th>\n",
       "      <td>0.071719</td>\n",
       "      <td>0.177449</td>\n",
       "      <td>0.063213</td>\n",
       "      <td>0.082979</td>\n",
       "      <td>0.068659</td>\n",
       "    </tr>\n",
       "  </tbody>\n",
       "</table>\n",
       "</div>"
      ],
      "text/plain": [
       "Day         Friday       Monday     Thursday      Tuesday    Wednesday\n",
       "count  1043.000000  1044.000000  1043.000000  1044.000000  1044.000000\n",
       "mean      0.000560     0.000410     0.000459     0.000178     0.001176\n",
       "std       0.014781     0.015960     0.012692     0.013233     0.013028\n",
       "min      -0.122021    -0.122389    -0.067665    -0.069495    -0.061799\n",
       "25%      -0.005971    -0.005878    -0.005954    -0.005273    -0.005004\n",
       "50%       0.000156     0.000272     0.000232     0.000013     0.000208\n",
       "75%       0.008009     0.007377     0.007376     0.006607     0.006875\n",
       "max       0.071719     0.177449     0.063213     0.082979     0.068659"
      ]
     },
     "execution_count": 40,
     "metadata": {},
     "output_type": "execute_result"
    }
   ],
   "source": [
    "Pivot.describe()"
   ]
  },
  {
   "cell_type": "code",
   "execution_count": 41,
   "metadata": {},
   "outputs": [],
   "source": [
    "Pivot=Pivot.reset_index()"
   ]
  },
  {
   "cell_type": "code",
   "execution_count": 42,
   "metadata": {},
   "outputs": [
    {
     "data": {
      "text/html": [
       "<div>\n",
       "<style scoped>\n",
       "    .dataframe tbody tr th:only-of-type {\n",
       "        vertical-align: middle;\n",
       "    }\n",
       "\n",
       "    .dataframe tbody tr th {\n",
       "        vertical-align: top;\n",
       "    }\n",
       "\n",
       "    .dataframe thead th {\n",
       "        text-align: right;\n",
       "    }\n",
       "</style>\n",
       "<table border=\"1\" class=\"dataframe\">\n",
       "  <thead>\n",
       "    <tr style=\"text-align: right;\">\n",
       "      <th>Day</th>\n",
       "      <th>Date</th>\n",
       "      <th>Friday</th>\n",
       "      <th>Monday</th>\n",
       "      <th>Thursday</th>\n",
       "      <th>Tuesday</th>\n",
       "      <th>Wednesday</th>\n",
       "    </tr>\n",
       "  </thead>\n",
       "  <tbody>\n",
       "    <tr>\n",
       "      <th>0</th>\n",
       "      <td>2000-01-03</td>\n",
       "      <td>NaN</td>\n",
       "      <td>0.080311</td>\n",
       "      <td>NaN</td>\n",
       "      <td>NaN</td>\n",
       "      <td>NaN</td>\n",
       "    </tr>\n",
       "    <tr>\n",
       "      <th>1</th>\n",
       "      <td>2000-01-04</td>\n",
       "      <td>NaN</td>\n",
       "      <td>NaN</td>\n",
       "      <td>NaN</td>\n",
       "      <td>0.029204</td>\n",
       "      <td>NaN</td>\n",
       "    </tr>\n",
       "    <tr>\n",
       "      <th>2</th>\n",
       "      <td>2000-01-05</td>\n",
       "      <td>NaN</td>\n",
       "      <td>NaN</td>\n",
       "      <td>NaN</td>\n",
       "      <td>NaN</td>\n",
       "      <td>-0.026183</td>\n",
       "    </tr>\n",
       "    <tr>\n",
       "      <th>3</th>\n",
       "      <td>2000-01-06</td>\n",
       "      <td>NaN</td>\n",
       "      <td>NaN</td>\n",
       "      <td>0.013662</td>\n",
       "      <td>NaN</td>\n",
       "      <td>NaN</td>\n",
       "    </tr>\n",
       "    <tr>\n",
       "      <th>4</th>\n",
       "      <td>2000-01-07</td>\n",
       "      <td>-0.002658</td>\n",
       "      <td>NaN</td>\n",
       "      <td>NaN</td>\n",
       "      <td>NaN</td>\n",
       "      <td>NaN</td>\n",
       "    </tr>\n",
       "  </tbody>\n",
       "</table>\n",
       "</div>"
      ],
      "text/plain": [
       "Day       Date    Friday    Monday  Thursday   Tuesday  Wednesday\n",
       "0   2000-01-03       NaN  0.080311       NaN       NaN        NaN\n",
       "1   2000-01-04       NaN       NaN       NaN  0.029204        NaN\n",
       "2   2000-01-05       NaN       NaN       NaN       NaN  -0.026183\n",
       "3   2000-01-06       NaN       NaN  0.013662       NaN        NaN\n",
       "4   2000-01-07 -0.002658       NaN       NaN       NaN        NaN"
      ]
     },
     "execution_count": 42,
     "metadata": {},
     "output_type": "execute_result"
    }
   ],
   "source": [
    "Pivot.head()"
   ]
  },
  {
   "cell_type": "code",
   "execution_count": 43,
   "metadata": {},
   "outputs": [],
   "source": [
    "Fri=Pivot.iloc[:,1:2]\n",
    "Fri=Fri.dropna()\n",
    "Fri=Fri.reset_index()\n",
    "Fri=Fri.iloc[:,1:2]\n",
    "\n",
    "Mon=Pivot.iloc[:,2:3]\n",
    "Mon=Mon.dropna()\n",
    "Mon=Mon.reset_index()\n",
    "Mon=Mon.iloc[:,1:2]\n",
    "\n",
    "Thu=Pivot.iloc[:,3:4]\n",
    "Thu=Thu.dropna()\n",
    "Thu=Thu.reset_index()\n",
    "Thu=Thu.iloc[:,1:2]\n",
    "\n",
    "Tue=Pivot.iloc[:,4:5]\n",
    "Tue=Tue.dropna()\n",
    "Tue=Tue.reset_index()\n",
    "Tue=Tue.iloc[:,1:2]\n",
    "\n",
    "Wed=Pivot.iloc[:,5:6]\n",
    "Wed=Wed.dropna()\n",
    "Wed=Wed.reset_index()\n",
    "Wed=Wed.iloc[:,1:2]"
   ]
  },
  {
   "cell_type": "code",
   "execution_count": 44,
   "metadata": {},
   "outputs": [],
   "source": [
    "Alldata = pd.concat([Mon['Monday'],Tue['Tuesday'],Wed['Wednesday'],Thu['Thursday'],Fri['Friday']],axis=1)"
   ]
  },
  {
   "cell_type": "code",
   "execution_count": 45,
   "metadata": {},
   "outputs": [
    {
     "data": {
      "text/html": [
       "<div>\n",
       "<style scoped>\n",
       "    .dataframe tbody tr th:only-of-type {\n",
       "        vertical-align: middle;\n",
       "    }\n",
       "\n",
       "    .dataframe tbody tr th {\n",
       "        vertical-align: top;\n",
       "    }\n",
       "\n",
       "    .dataframe thead th {\n",
       "        text-align: right;\n",
       "    }\n",
       "</style>\n",
       "<table border=\"1\" class=\"dataframe\">\n",
       "  <thead>\n",
       "    <tr style=\"text-align: right;\">\n",
       "      <th></th>\n",
       "      <th>Monday</th>\n",
       "      <th>Tuesday</th>\n",
       "      <th>Wednesday</th>\n",
       "      <th>Thursday</th>\n",
       "      <th>Friday</th>\n",
       "    </tr>\n",
       "  </thead>\n",
       "  <tbody>\n",
       "    <tr>\n",
       "      <th>1039</th>\n",
       "      <td>-0.000651</td>\n",
       "      <td>-0.004482</td>\n",
       "      <td>0.004086</td>\n",
       "      <td>-0.002062</td>\n",
       "      <td>-0.008062</td>\n",
       "    </tr>\n",
       "    <tr>\n",
       "      <th>1040</th>\n",
       "      <td>0.001342</td>\n",
       "      <td>-0.006721</td>\n",
       "      <td>0.004498</td>\n",
       "      <td>0.005180</td>\n",
       "      <td>0.009595</td>\n",
       "    </tr>\n",
       "    <tr>\n",
       "      <th>1041</th>\n",
       "      <td>-0.002707</td>\n",
       "      <td>0.009213</td>\n",
       "      <td>0.004653</td>\n",
       "      <td>0.003160</td>\n",
       "      <td>0.000989</td>\n",
       "    </tr>\n",
       "    <tr>\n",
       "      <th>1042</th>\n",
       "      <td>-0.000740</td>\n",
       "      <td>-0.003928</td>\n",
       "      <td>0.000000</td>\n",
       "      <td>-0.007207</td>\n",
       "      <td>0.009836</td>\n",
       "    </tr>\n",
       "    <tr>\n",
       "      <th>1043</th>\n",
       "      <td>0.000819</td>\n",
       "      <td>-0.007132</td>\n",
       "      <td>0.001158</td>\n",
       "      <td>NaN</td>\n",
       "      <td>NaN</td>\n",
       "    </tr>\n",
       "  </tbody>\n",
       "</table>\n",
       "</div>"
      ],
      "text/plain": [
       "        Monday   Tuesday  Wednesday  Thursday    Friday\n",
       "1039 -0.000651 -0.004482   0.004086 -0.002062 -0.008062\n",
       "1040  0.001342 -0.006721   0.004498  0.005180  0.009595\n",
       "1041 -0.002707  0.009213   0.004653  0.003160  0.000989\n",
       "1042 -0.000740 -0.003928   0.000000 -0.007207  0.009836\n",
       "1043  0.000819 -0.007132   0.001158       NaN       NaN"
      ]
     },
     "execution_count": 45,
     "metadata": {},
     "output_type": "execute_result"
    }
   ],
   "source": [
    "Alldata.tail()"
   ]
  },
  {
   "cell_type": "code",
   "execution_count": 46,
   "metadata": {},
   "outputs": [
    {
     "data": {
      "text/html": [
       "<div>\n",
       "<style scoped>\n",
       "    .dataframe tbody tr th:only-of-type {\n",
       "        vertical-align: middle;\n",
       "    }\n",
       "\n",
       "    .dataframe tbody tr th {\n",
       "        vertical-align: top;\n",
       "    }\n",
       "\n",
       "    .dataframe thead th {\n",
       "        text-align: right;\n",
       "    }\n",
       "</style>\n",
       "<table border=\"1\" class=\"dataframe\">\n",
       "  <thead>\n",
       "    <tr style=\"text-align: right;\">\n",
       "      <th></th>\n",
       "      <th>Monday</th>\n",
       "      <th>Tuesday</th>\n",
       "      <th>Wednesday</th>\n",
       "      <th>Thursday</th>\n",
       "      <th>Friday</th>\n",
       "    </tr>\n",
       "  </thead>\n",
       "  <tbody>\n",
       "    <tr>\n",
       "      <th>1038</th>\n",
       "      <td>0.013373</td>\n",
       "      <td>-0.002984</td>\n",
       "      <td>0.005233</td>\n",
       "      <td>0.004168</td>\n",
       "      <td>-0.007825</td>\n",
       "    </tr>\n",
       "    <tr>\n",
       "      <th>1039</th>\n",
       "      <td>-0.000651</td>\n",
       "      <td>-0.004482</td>\n",
       "      <td>0.004086</td>\n",
       "      <td>-0.002062</td>\n",
       "      <td>-0.008062</td>\n",
       "    </tr>\n",
       "    <tr>\n",
       "      <th>1040</th>\n",
       "      <td>0.001342</td>\n",
       "      <td>-0.006721</td>\n",
       "      <td>0.004498</td>\n",
       "      <td>0.005180</td>\n",
       "      <td>0.009595</td>\n",
       "    </tr>\n",
       "    <tr>\n",
       "      <th>1041</th>\n",
       "      <td>-0.002707</td>\n",
       "      <td>0.009213</td>\n",
       "      <td>0.004653</td>\n",
       "      <td>0.003160</td>\n",
       "      <td>0.000989</td>\n",
       "    </tr>\n",
       "    <tr>\n",
       "      <th>1042</th>\n",
       "      <td>-0.000740</td>\n",
       "      <td>-0.003928</td>\n",
       "      <td>0.000000</td>\n",
       "      <td>-0.007207</td>\n",
       "      <td>0.009836</td>\n",
       "    </tr>\n",
       "  </tbody>\n",
       "</table>\n",
       "</div>"
      ],
      "text/plain": [
       "        Monday   Tuesday  Wednesday  Thursday    Friday\n",
       "1038  0.013373 -0.002984   0.005233  0.004168 -0.007825\n",
       "1039 -0.000651 -0.004482   0.004086 -0.002062 -0.008062\n",
       "1040  0.001342 -0.006721   0.004498  0.005180  0.009595\n",
       "1041 -0.002707  0.009213   0.004653  0.003160  0.000989\n",
       "1042 -0.000740 -0.003928   0.000000 -0.007207  0.009836"
      ]
     },
     "execution_count": 46,
     "metadata": {},
     "output_type": "execute_result"
    }
   ],
   "source": [
    "Alldata=Alldata.dropna()\n",
    "Alldata.tail()"
   ]
  },
  {
   "cell_type": "code",
   "execution_count": 47,
   "metadata": {},
   "outputs": [
    {
     "data": {
      "text/html": [
       "<div>\n",
       "<style scoped>\n",
       "    .dataframe tbody tr th:only-of-type {\n",
       "        vertical-align: middle;\n",
       "    }\n",
       "\n",
       "    .dataframe tbody tr th {\n",
       "        vertical-align: top;\n",
       "    }\n",
       "\n",
       "    .dataframe thead th {\n",
       "        text-align: right;\n",
       "    }\n",
       "</style>\n",
       "<table border=\"1\" class=\"dataframe\">\n",
       "  <thead>\n",
       "    <tr style=\"text-align: right;\">\n",
       "      <th></th>\n",
       "      <th>Monday</th>\n",
       "      <th>Tuesday</th>\n",
       "      <th>Wednesday</th>\n",
       "      <th>Thursday</th>\n",
       "      <th>Friday</th>\n",
       "    </tr>\n",
       "  </thead>\n",
       "  <tbody>\n",
       "    <tr>\n",
       "      <th>count</th>\n",
       "      <td>1043.000000</td>\n",
       "      <td>1043.000000</td>\n",
       "      <td>1043.000000</td>\n",
       "      <td>1043.000000</td>\n",
       "      <td>1043.000000</td>\n",
       "    </tr>\n",
       "    <tr>\n",
       "      <th>mean</th>\n",
       "      <td>0.000409</td>\n",
       "      <td>0.000185</td>\n",
       "      <td>0.001176</td>\n",
       "      <td>0.000459</td>\n",
       "      <td>0.000560</td>\n",
       "    </tr>\n",
       "    <tr>\n",
       "      <th>std</th>\n",
       "      <td>0.015967</td>\n",
       "      <td>0.013237</td>\n",
       "      <td>0.013034</td>\n",
       "      <td>0.012692</td>\n",
       "      <td>0.014781</td>\n",
       "    </tr>\n",
       "    <tr>\n",
       "      <th>min</th>\n",
       "      <td>-0.122389</td>\n",
       "      <td>-0.069495</td>\n",
       "      <td>-0.061799</td>\n",
       "      <td>-0.067665</td>\n",
       "      <td>-0.122021</td>\n",
       "    </tr>\n",
       "    <tr>\n",
       "      <th>25%</th>\n",
       "      <td>-0.005881</td>\n",
       "      <td>-0.005249</td>\n",
       "      <td>-0.005005</td>\n",
       "      <td>-0.005954</td>\n",
       "      <td>-0.005971</td>\n",
       "    </tr>\n",
       "    <tr>\n",
       "      <th>50%</th>\n",
       "      <td>0.000267</td>\n",
       "      <td>0.000025</td>\n",
       "      <td>0.000205</td>\n",
       "      <td>0.000232</td>\n",
       "      <td>0.000156</td>\n",
       "    </tr>\n",
       "    <tr>\n",
       "      <th>75%</th>\n",
       "      <td>0.007387</td>\n",
       "      <td>0.006607</td>\n",
       "      <td>0.006878</td>\n",
       "      <td>0.007376</td>\n",
       "      <td>0.008009</td>\n",
       "    </tr>\n",
       "    <tr>\n",
       "      <th>max</th>\n",
       "      <td>0.177449</td>\n",
       "      <td>0.082979</td>\n",
       "      <td>0.068659</td>\n",
       "      <td>0.063213</td>\n",
       "      <td>0.071719</td>\n",
       "    </tr>\n",
       "  </tbody>\n",
       "</table>\n",
       "</div>"
      ],
      "text/plain": [
       "            Monday      Tuesday    Wednesday     Thursday       Friday\n",
       "count  1043.000000  1043.000000  1043.000000  1043.000000  1043.000000\n",
       "mean      0.000409     0.000185     0.001176     0.000459     0.000560\n",
       "std       0.015967     0.013237     0.013034     0.012692     0.014781\n",
       "min      -0.122389    -0.069495    -0.061799    -0.067665    -0.122021\n",
       "25%      -0.005881    -0.005249    -0.005005    -0.005954    -0.005971\n",
       "50%       0.000267     0.000025     0.000205     0.000232     0.000156\n",
       "75%       0.007387     0.006607     0.006878     0.007376     0.008009\n",
       "max       0.177449     0.082979     0.068659     0.063213     0.071719"
      ]
     },
     "execution_count": 47,
     "metadata": {},
     "output_type": "execute_result"
    }
   ],
   "source": [
    "Alldata.describe()"
   ]
  },
  {
   "cell_type": "code",
   "execution_count": null,
   "metadata": {},
   "outputs": [],
   "source": []
  },
  {
   "cell_type": "code",
   "execution_count": 48,
   "metadata": {},
   "outputs": [],
   "source": [
    "# All the possible day difference combinations are: (Mon-Tue, Mon-Wed, Mon-Thu, Mon-Fri, Tue-Wed, Tue-Thu, Tue-Fri, Wed-Thu, Wed-Fri, Thu-Fri)\n",
    "\n",
    "#In the formula below, I have selected every combination of days and tried to find out if there is a statistically significant difference (two sample t test)"
   ]
  },
  {
   "cell_type": "code",
   "execution_count": 49,
   "metadata": {},
   "outputs": [
    {
     "name": "stdout",
     "output_type": "stream",
     "text": [
      "Ks_2sampResult(statistic=0.03930968360498566, pvalue=0.3891547280799519)\n",
      "Ks_2sampResult(statistic=0.04602109300095879, pvalue=0.2141002439985796)\n",
      "Ks_2sampResult(statistic=0.02780441035474593, pvalue=0.8097040383319704)\n",
      "Ks_2sampResult(statistic=0.025886864813039256, pvalue=0.8716185084886382)\n",
      "Ks_2sampResult(statistic=0.03547459252157237, pvalue=0.5206790321734491)\n",
      "Ks_2sampResult(statistic=0.04602109300095869, pvalue=0.21410024399858157)\n",
      "Ks_2sampResult(statistic=0.05465004793863848, pvalue=0.08576627551079939)\n",
      "Ks_2sampResult(statistic=0.029721955896452545, pvalue=0.7402150900931711)\n",
      "Ks_2sampResult(statistic=0.045062320230105465, pvalue=0.23465910212747337)\n",
      "Ks_2sampResult(statistic=0.029721955896452545, pvalue=0.7402150900931711)\n"
     ]
    }
   ],
   "source": [
    "for i in range(0,4):\n",
    "    for j in range (i+1,5):\n",
    "        print(scipy.stats.ks_2samp(Alldata.iloc[:,i],Alldata.iloc[:,j]))"
   ]
  },
  {
   "cell_type": "markdown",
   "metadata": {},
   "source": [
    "# Conclusion: The return on a particular day of the week is not statistically different from any other day of the week. (This doesn't mean that they are exactly the same, they are just not stastically different)"
   ]
  },
  {
   "cell_type": "code",
   "execution_count": 50,
   "metadata": {},
   "outputs": [
    {
     "data": {
      "text/plain": [
       "<BarContainer object of 5 artists>"
      ]
     },
     "execution_count": 50,
     "metadata": {},
     "output_type": "execute_result"
    },
    {
     "data": {
      "image/png": "[encoded data removed]",
      "text/plain": [
       "<Figure size 432x288 with 1 Axes>"
      ]
     },
     "metadata": {
      "needs_background": "light"
     },
     "output_type": "display_data"
    }
   ],
   "source": [
    "plt.bar(Alldata.columns,Alldata.mean()*100)"
   ]
  }
 ],
 "metadata": {
  "kernelspec": {
   "display_name": "Python 3 (ipykernel)",
   "language": "python",
   "name": "python3"
  },
  "language_info": {
   "codemirror_mode": {
    "name": "ipython",
    "version": 3
   },
   "file_extension": ".py",
   "mimetype": "text/x-python",
   "name": "python",
   "nbconvert_exporter": "python",
   "pygments_lexer": "ipython3",
   "version": "3.12.3"
  }
 },
 "nbformat": 4,
 "nbformat_minor": 2
}
